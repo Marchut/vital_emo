{
 "cells": [
  {
   "cell_type": "code",
   "execution_count": 1,
   "id": "greek-fantasy",
   "metadata": {},
   "outputs": [],
   "source": [
    "import cv2 as cv\n",
    "import numpy as np\n",
    "import pandas as pd\n",
    "import csv"
   ]
  },
  {
   "cell_type": "code",
   "execution_count": 2,
   "id": "double-canyon",
   "metadata": {},
   "outputs": [],
   "source": [
    "def get_punctuation(person_id, video_id):\n",
    "    df = pd.read_csv(\"data/facecut/input/scores.csv\", index_col = False)\n",
    "    \n",
    "    filtered = df.loc[df[\"idPersona\"] == person_id]\n",
    "\n",
    "    return filtered.loc[df[\"idVideo\"] == video_id][\"puntuacion\"].to_string(index = False)"
   ]
  },
  {
   "cell_type": "code",
   "execution_count": 3,
   "id": "preliminary-bhutan",
   "metadata": {},
   "outputs": [],
   "source": [
    "def write_row(person_id, video_id, nframe, face, punctuation):\n",
    "    face_string = \"\"\n",
    "    for i in face:\n",
    "        face_string += str(i) + \" \"\n",
    "    path = \"data/facecut/output_csv/faces.csv\"\n",
    "    with open(path, 'a') as f:\n",
    "        writer = csv.writer(f, lineterminator='\\n')\n",
    "        writer.writerow([person_id, video_id, nframe, face_string, punctuation])"
   ]
  },
  {
   "cell_type": "code",
   "execution_count": 4,
   "id": "intelligent-bradley",
   "metadata": {},
   "outputs": [],
   "source": [
    "def detect_faces(route):\n",
    "    original_image = route\n",
    "    grayscale_image = cv.cvtColor(original_image, cv.COLOR_BGR2GRAY)\n",
    "    grayscale_image = original_image\n",
    "    face_cascade = cv.CascadeClassifier('data/face_classifier.xml')\n",
    "\n",
    "    detected_faces = face_cascade.detectMultiScale(grayscale_image)\n",
    "\n",
    "    for (column, row, width, height) in detected_faces:\n",
    "        cv.rectangle(\n",
    "            original_image,\n",
    "            (column, row),\n",
    "            (column + width, row + height),\n",
    "            (0, 255, 0),\n",
    "            2\n",
    "        )\n",
    "\n",
    "    return detected_faces"
   ]
  },
  {
   "cell_type": "code",
   "execution_count": 5,
   "id": "employed-showcase",
   "metadata": {},
   "outputs": [],
   "source": [
    "def cut_face(img, face_coords):\n",
    "    x0 = face_coords[0]\n",
    "    y0 = face_coords[1]\n",
    "    \n",
    "    width = face_coords[2]\n",
    "    height = face_coords[3]\n",
    "    \n",
    "    x1 = x0 + width\n",
    "    y1 = y0 + height\n",
    "\n",
    "    \n",
    "    return img[y0:y1, x0:x1]"
   ]
  },
  {
   "cell_type": "code",
   "execution_count": 6,
   "id": "occasional-poetry",
   "metadata": {},
   "outputs": [],
   "source": [
    "def face2array(frame, faces_detected):\n",
    "    only_face = cut_face(frame, faces_detected[0])\n",
    "    small_face = cv.resize(only_face, (48, 48))\n",
    "    grey_face = cv.cvtColor(small_face, cv.COLOR_BGR2GRAY)\n",
    "    flat_array = np.array(grey_face).flatten()\n",
    "    \n",
    "    return flat_array, grey_face"
   ]
  },
  {
   "cell_type": "code",
   "execution_count": 7,
   "id": "starting-earthquake",
   "metadata": {},
   "outputs": [],
   "source": [
    "def manage_face(frame, faces_detected, person_id, video_id, nframe):\n",
    "    flat_array, grey_face = face2array(frame, faces_detected)\n",
    "    punctuation = get_punctuation(person_id, video_id)\n",
    "    write_row(person_id, video_id, int(nframe/10), flat_array, punctuation)\n",
    "    cv.imwrite(\"data/facecut/output_frames/\" + str(person_id) + \"-\" + str(video_id) + \"-\"+ str(int(nframe/10)) + \".jpg\", grey_face)"
   ]
  },
  {
   "cell_type": "code",
   "execution_count": 8,
   "id": "amino-heading",
   "metadata": {},
   "outputs": [],
   "source": [
    "def main():    \n",
    "    person_id = \"s04\"\n",
    "    video_len = 20\n",
    "\n",
    "    for video_id in range(1, video_len):\n",
    "        video = cv.VideoCapture(\"data/facecut/input/video\" + str(video_id) + \"-\" + person_id + \".mp4\")\n",
    "        print(\"Cutting video:  \" + str(video_id))\n",
    "        nframe = 0\n",
    "\n",
    "        while True:\n",
    "            check, frame = video.read()\n",
    "\n",
    "            if(not check):\n",
    "                 break\n",
    "\n",
    "            faces_detected = detect_faces(frame)\n",
    "            cv.imshow(\"Vital Emo - Cutting Faces\", frame)\n",
    "\n",
    "            if type(faces_detected) is not tuple and faces_detected.shape[0] == 1:\n",
    "                if nframe % 10 == 0:\n",
    "                    manage_face(frame, faces_detected, person_id, video_id, nframe)\n",
    "                nframe += 1\n",
    "            key = cv.waitKey(1)\n",
    "\n",
    "            if key == ord('q'):\n",
    "                break\n",
    "\n",
    "    video.release()\n",
    "    cv.destroyAllWindows()"
   ]
  },
  {
   "cell_type": "code",
   "execution_count": 9,
   "id": "lyric-school",
   "metadata": {},
   "outputs": [
    {
     "name": "stdout",
     "output_type": "stream",
     "text": [
      "Cutting video:  1\n",
      "Cutting video:  2\n",
      "Cutting video:  3\n",
      "Cutting video:  4\n",
      "Cutting video:  5\n",
      "Cutting video:  6\n",
      "Cutting video:  7\n",
      "Cutting video:  8\n",
      "Cutting video:  9\n",
      "Cutting video:  10\n",
      "Cutting video:  11\n",
      "Cutting video:  12\n",
      "Cutting video:  13\n",
      "Cutting video:  14\n",
      "Cutting video:  15\n",
      "Cutting video:  16\n",
      "Cutting video:  17\n",
      "Cutting video:  18\n",
      "Cutting video:  19\n"
     ]
    }
   ],
   "source": [
    "main()"
   ]
  },
  {
   "cell_type": "code",
   "execution_count": null,
   "id": "fifty-saver",
   "metadata": {},
   "outputs": [],
   "source": []
  },
  {
   "cell_type": "code",
   "execution_count": null,
   "id": "suitable-retro",
   "metadata": {},
   "outputs": [],
   "source": []
  },
  {
   "cell_type": "code",
   "execution_count": null,
   "id": "emotional-ireland",
   "metadata": {},
   "outputs": [],
   "source": []
  }
 ],
 "metadata": {
  "kernelspec": {
   "display_name": "Python 3",
   "language": "python",
   "name": "python3"
  },
  "language_info": {
   "codemirror_mode": {
    "name": "ipython",
    "version": 3
   },
   "file_extension": ".py",
   "mimetype": "text/x-python",
   "name": "python",
   "nbconvert_exporter": "python",
   "pygments_lexer": "ipython3",
   "version": "3.8.8"
  }
 },
 "nbformat": 4,
 "nbformat_minor": 5
}
