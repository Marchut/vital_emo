{
 "cells": [
  {
   "cell_type": "code",
   "execution_count": 1,
   "metadata": {},
   "outputs": [],
   "source": [
    "import numpy as np\n",
    "import pandas as pd\n",
    "import tensorflow as tf\n",
    "import matplotlib.pyplot as plt\n",
    "import scipy.io as sio\n",
    "import cv2 as cv\n",
    "import os\n",
    "import random\n",
    "import math\n",
    "from sklearn.model_selection import train_test_split\n",
    "from sklearn.preprocessing import LabelEncoder, OneHotEncoder\n",
    "from sklearn.metrics import classification_report\n",
    "from tensorflow import keras\n",
    "from tensorflow.keras import layers\n",
    "from tensorflow.keras import Model, Sequential\n",
    "from tensorflow.keras.callbacks import EarlyStopping, Callback, ModelCheckpoint, ReduceLROnPlateau\n",
    "from tensorflow.keras.models import model_from_json\n",
    "from tensorflow.keras.layers import *\n",
    "from tensorflow.keras.utils import to_categorical\n",
    "from tensorflow.keras.optimizers import *\n",
    "from tensorflow.keras.preprocessing.image import ImageDataGenerator\n",
    "from PIL import Image"
   ]
  },
  {
   "cell_type": "code",
   "execution_count": 2,
   "metadata": {},
   "outputs": [],
   "source": [
    "gpus = tf.config.experimental.list_physical_devices('GPU')\n",
    "if gpus:\n",
    "    try:\n",
    "        for gpu in gpus:\n",
    "            tf.config.experimental.set_memory_growth(gpu, True)\n",
    "\n",
    "    except RuntimeError as e:\n",
    "        print(e)"
   ]
  },
  {
   "cell_type": "code",
   "execution_count": 3,
   "metadata": {},
   "outputs": [],
   "source": [
    "def model_skeleton(input_shape, num_classes):\n",
    "    \n",
    "    X_input = Input(input_shape)\n",
    "    \n",
    "    X = Conv2D(64, (5, 5), activation='relu', padding='same')(X_input)\n",
    "    X = BatchNormalization()(X)\n",
    "    X = Conv2D(64, (5, 5), activation='relu', padding='same')(X)\n",
    "    X = BatchNormalization()(X)\n",
    "    X = MaxPooling2D((2, 2))(X)\n",
    "    \n",
    "    X = Dropout(0.4)(X)\n",
    "    \n",
    "    X = Conv2D(128, (5, 5), activation='relu', padding='same')(X)\n",
    "    X = BatchNormalization()(X)\n",
    "    X = Conv2D(128, (5, 5), activation='relu', padding='same')(X)\n",
    "    X = BatchNormalization()(X)\n",
    "    X = MaxPooling2D((2, 2))(X)\n",
    "    \n",
    "    X = Dropout(0.4)(X)\n",
    "    \n",
    "    X = Conv2D(256, (5, 5), activation='relu', padding='same')(X)\n",
    "    X = BatchNormalization()(X)\n",
    "    X = Conv2D(256, (5, 5), activation='relu', padding='same')(X)\n",
    "    X = BatchNormalization()(X)\n",
    "    X = MaxPooling2D((2, 2))(X)\n",
    "    \n",
    "    X = Dropout(0.5)(X)\n",
    "    \n",
    "    X = Flatten()(X)\n",
    "    X = Dense(128, activation='relu')(X)\n",
    "    X = BatchNormalization()(X)\n",
    "    \n",
    "    X = Dropout(0.6)(X)\n",
    "    \n",
    "    X = Flatten()(X)\n",
    "    X = Dense(num_classes, activation='softmax')(X)\n",
    "    \n",
    "    \n",
    "    model = Model(inputs = X_input, outputs = X, name='CNN_model')\n",
    "    \n",
    "    return model"
   ]
  },
  {
   "cell_type": "code",
   "execution_count": 4,
   "metadata": {},
   "outputs": [],
   "source": [
    "def read_data():  \n",
    "    data_set = pd.read_csv('data/model/input/train.csv').values\n",
    "    examples = pd.read_csv('data/model/input/test.csv').values\n",
    "    \n",
    "    X = np.zeros((len(data_set), 48, 48, 1))\n",
    "    Y = np.zeros((len(data_set), 1))\n",
    "    \n",
    "    for i in range(len(data_set)):\n",
    "        image = data_set[i][1].split()\n",
    "        tag = data_set[i][0]\n",
    " \n",
    "        img = np.asarray(image, dtype=np.uint8).reshape(48,48,1)\n",
    "        X[i] = img\n",
    "        Y[i] = tag\n",
    "\n",
    "    return [X, Y]"
   ]
  },
  {
   "cell_type": "code",
   "execution_count": 5,
   "metadata": {},
   "outputs": [],
   "source": [
    "def one_hot_encoder(data) :\n",
    "    output = np.array([[0, 1, 2, 3, 4, 5, 6]])\n",
    "    onehot_encoder = OneHotEncoder(sparse=False, categories=output)\n",
    "    integer_encoded = data.reshape(len(data), 1)\n",
    "    onehot_encoded = onehot_encoder.fit_transform(integer_encoded)\n",
    "    return onehot_encoded"
   ]
  },
  {
   "cell_type": "code",
   "execution_count": 6,
   "metadata": {},
   "outputs": [],
   "source": [
    "def draw_cost_figure(history, title):\n",
    "    plt.figure()\n",
    "    plt.plot(history.history['loss'])\n",
    "    plt.plot(history.history['val_loss'])\n",
    "    plt.title('model cost ' + title)\n",
    "    plt.ylabel('cost')\n",
    "    plt.xlabel('epoch')\n",
    "    plt.legend(['train', 'val'], loc='upper right')"
   ]
  },
  {
   "cell_type": "code",
   "execution_count": 7,
   "metadata": {},
   "outputs": [],
   "source": [
    "def draw_accuracy_figure(history, title):\n",
    "    plt.figure()\n",
    "    plt.plot(history.history['acc'])\n",
    "    plt.plot(history.history['val_acc'])\n",
    "    plt.title('model accuracy ' + title)\n",
    "    plt.ylabel('accuracy')\n",
    "    plt.xlabel('epoch')\n",
    "    plt.legend(['train', 'val'], loc='upper right')"
   ]
  },
  {
   "cell_type": "code",
   "execution_count": 8,
   "metadata": {},
   "outputs": [],
   "source": [
    "def prepare_data():\n",
    "    X, Y = read_data()\n",
    "    X_train, X_valid, y_train, y_valid = train_test_split(X, Y, shuffle=False, test_size = 0.1)\n",
    "\n",
    "    y_train = one_hot_encoder(y_train)\n",
    "    y_valid = one_hot_encoder(y_valid)\n",
    "\n",
    "    train_datagen = ImageDataGenerator(\n",
    "        rotation_range=15,\n",
    "        width_shift_range=0.15,\n",
    "        height_shift_range=0.15,\n",
    "        shear_range=0.15,\n",
    "        zoom_range=0.15,\n",
    "        horizontal_flip=True,\n",
    "    )\n",
    "    \n",
    "    return X_train, X_valid, y_train, y_valid, train_datagen"
   ]
  },
  {
   "cell_type": "code",
   "execution_count": 9,
   "metadata": {},
   "outputs": [],
   "source": [
    "def train_model_emotions(X_train, X_valid, y_train, y_valid, train_datagen):\n",
    "    model = model_skeleton(X_train.shape[1:], 7)\n",
    "\n",
    "    opt = Adam(lr=0.001)\n",
    "\n",
    "    model.compile(optimizer=opt, loss='categorical_crossentropy', metrics=['acc'])\n",
    "    model.summary()\n",
    "\n",
    "    history = model.fit(\n",
    "        train_datagen.flow(X_train, y_train, batch_size=32),\n",
    "        epochs = 100,\n",
    "        verbose = True,\n",
    "        validation_data = (X_valid, y_valid),\n",
    "    )\n",
    "\n",
    "    return model, history"
   ]
  },
  {
   "cell_type": "code",
   "execution_count": 10,
   "metadata": {},
   "outputs": [],
   "source": [
    "def save_emotion_model(model):\n",
    "    model_json = model.to_json()\n",
    "    with open(\"data/model/output/modelemotion.json\", \"w\") as json_file:\n",
    "        json_file.write(model_json)\n",
    "    model.save_weights(\"data/model/output/modelemotion.h5\")\n",
    "    print(\"Saved model to disk\")\n",
    "\n"
   ]
  },
  {
   "cell_type": "code",
   "execution_count": 11,
   "metadata": {},
   "outputs": [],
   "source": [
    "def load_emotion_model():\n",
    "    json_file = open('data/model/output/modelemotion.json', 'r')\n",
    "    loaded_model_json = json_file.read()\n",
    "    json_file.close()\n",
    "\n",
    "    model = model_from_json(loaded_model_json)\n",
    "    model.load_weights(\"data/model/output/modelemotion.h5\")\n",
    "    return model\n",
    "\n"
   ]
  },
  {
   "cell_type": "code",
   "execution_count": 12,
   "metadata": {},
   "outputs": [],
   "source": [
    "def split_data(file_name, train_percentage):\n",
    "    n_file = len(file_name)\n",
    "    random.shuffle(file_name)\n",
    "    n_train = math.floor(train_percentage * n_file)\n",
    "    return file_name[:n_train], file_name[n_train:]\n",
    "    "
   ]
  },
  {
   "cell_type": "code",
   "execution_count": 13,
   "metadata": {},
   "outputs": [],
   "source": [
    "def format_image(line):\n",
    "    image = line[3].split()\n",
    "    mark = line[4]\n",
    "    if mark < 4:\n",
    "        tag = 0\n",
    "    elif mark < 7:\n",
    "        tag = 1\n",
    "    else:\n",
    "        tag = 2\n",
    "\n",
    "    img = np.asarray(image, dtype=np.uint8).reshape(48,48,1)\n",
    "    return img, tag"
   ]
  },
  {
   "cell_type": "code",
   "execution_count": 14,
   "metadata": {},
   "outputs": [],
   "source": [
    "def read_csv_data(path, file_names):\n",
    "    size = 0\n",
    "    for i in range(len(file_names)):\n",
    "        size += len(pd.read_csv(os.path.join(path, file_names[i])).values)\n",
    "    \n",
    "    X = np.zeros((size, 48, 48, 1))\n",
    "    Y = np.zeros((size, 1))\n",
    "\n",
    "    pointer = 0\n",
    "    for i in range(len(file_names)):\n",
    "        csv_file = pd.read_csv(os.path.join(path, file_names[i])).values\n",
    "        for line in csv_file:\n",
    "\n",
    "            img, tag = format_image(line)\n",
    "\n",
    "            X[pointer] = img\n",
    "            Y[pointer] = tag\n",
    "            pointer += 1\n",
    "                       \n",
    "    return X, Y"
   ]
  },
  {
   "cell_type": "code",
   "execution_count": 15,
   "metadata": {},
   "outputs": [],
   "source": [
    "def load_boredom_csv():\n",
    "    #THE CSV FILES SHOULD BE MOVED MANUALLY FROM data/facecut/output_csv/ TO data/model/input/faces_csv/\n",
    "    path = 'data/model/input/faces_csv/'\n",
    "    content = os.listdir(path)\n",
    "    data_set_cara = dict()\n",
    "\n",
    "    train_name, test_name = split_data(content, 0.7)\n",
    "\n",
    "    X_train , Y_train = read_csv_data(path, train_name)\n",
    "    X_test , Y_test = read_csv_data(path, test_name)\n",
    "    \n",
    "    return  X_train, Y_train, X_test, Y_test\n"
   ]
  },
  {
   "cell_type": "code",
   "execution_count": 16,
   "metadata": {},
   "outputs": [],
   "source": [
    "def transfer_learning_model(model):\n",
    "    n_layers_to_remove = 10\n",
    "\n",
    "    model_TL = Sequential()\n",
    "    for layer in model.layers[:-n_layers_to_remove]: \n",
    "        layer.trainable = False\n",
    "        model_TL.add(layer)\n",
    "\n",
    "    model_TL.add(Conv2D(256, (5, 5), activation='relu', padding='same', name=\"relu_tl_1\"))\n",
    "    model_TL.add(BatchNormalization(name=\"batch_tl_1\"))\n",
    "    model_TL.add(MaxPooling2D((2, 2), name=\"max_pool_tl_1\"))\n",
    "    model_TL.add(Dropout(0.4, name=\"drop_out_tl_1\"))\n",
    "    model_TL.add(Flatten(name=\"flatten_tl_1\"))\n",
    "\n",
    "    model_TL.add(Dense(128, activation=\"relu\", name=\"relu_tl_2\"))\n",
    "    model_TL.add(BatchNormalization(name=\"batch_tl_2\"))\n",
    "    model_TL.add(Dropout(0.4, name=\"drop_out_tl_2\"))\n",
    "    model_TL.add(Flatten(name=\"flatten_tl_2\"))\n",
    "    model_TL.add(Dense(3, activation=\"softmax\", name=\"dense_tl_2\"))\n",
    "    \n",
    "    return model_TL\n",
    "\n",
    "\n"
   ]
  },
  {
   "cell_type": "code",
   "execution_count": 17,
   "metadata": {},
   "outputs": [],
   "source": [
    "def one_hot_encoder_bored(data) :\n",
    "    output = np.array([[0, 1, 2]])\n",
    "    onehot_encoder = OneHotEncoder(sparse=False, categories=output)\n",
    "    integer_encoded = data.reshape(len(data), 1)\n",
    "    onehot_encoded = onehot_encoder.fit_transform(integer_encoded)\n",
    "    return onehot_encoded"
   ]
  },
  {
   "cell_type": "code",
   "execution_count": 18,
   "metadata": {},
   "outputs": [],
   "source": [
    "def train_model_boredom(model_TL, X_train, X_test, Y_train_encoded, Y_test_encoded):\n",
    "    model_TL.compile(optimizer= Adam(lr=0.001), loss='categorical_crossentropy', metrics=['acc'])\n",
    "\n",
    "    history_TL = model_TL.fit(\n",
    "        x = X_train,\n",
    "        y = Y_train_encoded,\n",
    "        batch_size = 24,\n",
    "        epochs = 100,\n",
    "        verbose = True,\n",
    "        validation_data = (X_test, Y_test_encoded)\n",
    "    )\n",
    "    \n",
    "    return model_TL, history_TL"
   ]
  },
  {
   "cell_type": "code",
   "execution_count": 19,
   "metadata": {},
   "outputs": [],
   "source": [
    "def save_boredom_model(model_TL):\n",
    "    model_json = model_TL.to_json()\n",
    "    with open(\"data/model/output/modelboredom.json\", \"w\") as json_file:\n",
    "        json_file.write(model_json)\n",
    "    # serialize weights to HDF5\n",
    "    model_TL.save_weights(\"data/model/output/modelboredom.h5\")\n",
    "    print(\"Saved model to disk\")\n",
    "    "
   ]
  },
  {
   "cell_type": "code",
   "execution_count": 20,
   "metadata": {},
   "outputs": [
    {
     "name": "stdout",
     "output_type": "stream",
     "text": [
      "\n",
      "Emotions training:\n"
     ]
    },
    {
     "name": "stderr",
     "output_type": "stream",
     "text": [
      "C:\\Users\\concd\\anaconda3\\envs\\tf-gpu\\lib\\site-packages\\sklearn\\preprocessing\\_encoders.py:80: FutureWarning: elementwise comparison failed; returning scalar instead, but in the future will perform elementwise comparison\n",
      "  if self.categories != 'auto':\n",
      "C:\\Users\\concd\\anaconda3\\envs\\tf-gpu\\lib\\site-packages\\sklearn\\preprocessing\\_encoders.py:89: FutureWarning: elementwise comparison failed; returning scalar instead, but in the future will perform elementwise comparison\n",
      "  if self.categories == 'auto':\n",
      "C:\\Users\\concd\\anaconda3\\envs\\tf-gpu\\lib\\site-packages\\sklearn\\preprocessing\\_encoders.py:80: FutureWarning: elementwise comparison failed; returning scalar instead, but in the future will perform elementwise comparison\n",
      "  if self.categories != 'auto':\n",
      "C:\\Users\\concd\\anaconda3\\envs\\tf-gpu\\lib\\site-packages\\sklearn\\preprocessing\\_encoders.py:89: FutureWarning: elementwise comparison failed; returning scalar instead, but in the future will perform elementwise comparison\n",
      "  if self.categories == 'auto':\n"
     ]
    },
    {
     "name": "stdout",
     "output_type": "stream",
     "text": [
      "Model: \"CNN_model\"\n",
      "_________________________________________________________________\n",
      "Layer (type)                 Output Shape              Param #   \n",
      "=================================================================\n",
      "input_1 (InputLayer)         [(None, 48, 48, 1)]       0         \n",
      "_________________________________________________________________\n",
      "conv2d (Conv2D)              (None, 48, 48, 64)        1664      \n",
      "_________________________________________________________________\n",
      "batch_normalization (BatchNo (None, 48, 48, 64)        256       \n",
      "_________________________________________________________________\n",
      "conv2d_1 (Conv2D)            (None, 48, 48, 64)        102464    \n",
      "_________________________________________________________________\n",
      "batch_normalization_1 (Batch (None, 48, 48, 64)        256       \n",
      "_________________________________________________________________\n",
      "max_pooling2d (MaxPooling2D) (None, 24, 24, 64)        0         \n",
      "_________________________________________________________________\n",
      "dropout (Dropout)            (None, 24, 24, 64)        0         \n",
      "_________________________________________________________________\n",
      "conv2d_2 (Conv2D)            (None, 24, 24, 128)       204928    \n",
      "_________________________________________________________________\n",
      "batch_normalization_2 (Batch (None, 24, 24, 128)       512       \n",
      "_________________________________________________________________\n",
      "conv2d_3 (Conv2D)            (None, 24, 24, 128)       409728    \n",
      "_________________________________________________________________\n",
      "batch_normalization_3 (Batch (None, 24, 24, 128)       512       \n",
      "_________________________________________________________________\n",
      "max_pooling2d_1 (MaxPooling2 (None, 12, 12, 128)       0         \n",
      "_________________________________________________________________\n",
      "dropout_1 (Dropout)          (None, 12, 12, 128)       0         \n",
      "_________________________________________________________________\n",
      "conv2d_4 (Conv2D)            (None, 12, 12, 256)       819456    \n",
      "_________________________________________________________________\n",
      "batch_normalization_4 (Batch (None, 12, 12, 256)       1024      \n",
      "_________________________________________________________________\n",
      "conv2d_5 (Conv2D)            (None, 12, 12, 256)       1638656   \n",
      "_________________________________________________________________\n",
      "batch_normalization_5 (Batch (None, 12, 12, 256)       1024      \n",
      "_________________________________________________________________\n",
      "max_pooling2d_2 (MaxPooling2 (None, 6, 6, 256)         0         \n",
      "_________________________________________________________________\n",
      "dropout_2 (Dropout)          (None, 6, 6, 256)         0         \n",
      "_________________________________________________________________\n",
      "flatten (Flatten)            (None, 9216)              0         \n",
      "_________________________________________________________________\n",
      "dense (Dense)                (None, 128)               1179776   \n",
      "_________________________________________________________________\n",
      "batch_normalization_6 (Batch (None, 128)               512       \n",
      "_________________________________________________________________\n",
      "dropout_3 (Dropout)          (None, 128)               0         \n",
      "_________________________________________________________________\n",
      "flatten_1 (Flatten)          (None, 128)               0         \n",
      "_________________________________________________________________\n",
      "dense_1 (Dense)              (None, 7)                 903       \n",
      "=================================================================\n",
      "Total params: 4,361,671\n",
      "Trainable params: 4,359,623\n",
      "Non-trainable params: 2,048\n",
      "_________________________________________________________________\n",
      "808/808 [==============================] - 23s 23ms/step - loss: 2.4428 - acc: 0.1920 - val_loss: 1.7363 - val_acc: 0.2877\n",
      "Saved model to disk\n",
      "\n",
      "Boredom training:\n"
     ]
    },
    {
     "name": "stderr",
     "output_type": "stream",
     "text": [
      "C:\\Users\\concd\\anaconda3\\envs\\tf-gpu\\lib\\site-packages\\sklearn\\preprocessing\\_encoders.py:80: FutureWarning: elementwise comparison failed; returning scalar instead, but in the future will perform elementwise comparison\n",
      "  if self.categories != 'auto':\n",
      "C:\\Users\\concd\\anaconda3\\envs\\tf-gpu\\lib\\site-packages\\sklearn\\preprocessing\\_encoders.py:89: FutureWarning: elementwise comparison failed; returning scalar instead, but in the future will perform elementwise comparison\n",
      "  if self.categories == 'auto':\n",
      "C:\\Users\\concd\\anaconda3\\envs\\tf-gpu\\lib\\site-packages\\sklearn\\preprocessing\\_encoders.py:80: FutureWarning: elementwise comparison failed; returning scalar instead, but in the future will perform elementwise comparison\n",
      "  if self.categories != 'auto':\n",
      "C:\\Users\\concd\\anaconda3\\envs\\tf-gpu\\lib\\site-packages\\sklearn\\preprocessing\\_encoders.py:89: FutureWarning: elementwise comparison failed; returning scalar instead, but in the future will perform elementwise comparison\n",
      "  if self.categories == 'auto':\n"
     ]
    },
    {
     "name": "stdout",
     "output_type": "stream",
     "text": [
      "1892/1892 [==============================] - 27s 13ms/step - loss: 0.7356 - acc: 0.7026 - val_loss: 1.4226 - val_acc: 0.3401\n",
      "Saved model to disk\n"
     ]
    },
    {
     "data": {
      "image/png": "[encoded data removed]",
      "text/plain": [
       "<Figure size 432x288 with 1 Axes>"
      ]
     },
     "metadata": {
      "needs_background": "light"
     },
     "output_type": "display_data"
    },
    {
     "data": {
      "image/png": "[encoded data removed]",
      "text/plain": [
       "<Figure size 432x288 with 1 Axes>"
      ]
     },
     "metadata": {
      "needs_background": "light"
     },
     "output_type": "display_data"
    },
    {
     "data": {
      "image/png": "[encoded data removed]",
      "text/plain": [
       "<Figure size 432x288 with 1 Axes>"
      ]
     },
     "metadata": {
      "needs_background": "light"
     },
     "output_type": "display_data"
    },
    {
     "data": {
      "image/png": "[encoded data removed]",
      "text/plain": [
       "<Figure size 432x288 with 1 Axes>"
      ]
     },
     "metadata": {
      "needs_background": "light"
     },
     "output_type": "display_data"
    }
   ],
   "source": [
    "def main():\n",
    "    #EMOTIONS\n",
    "    print(\"\\nEmotions training:\")\n",
    "    X_train, X_valid, y_train, y_valid, train_datagen = prepare_data()\n",
    "    model, history = train_model_emotions(X_train, X_valid, y_train, y_valid, train_datagen)\n",
    "\n",
    "    draw_cost_figure(history, \"emotions\")\n",
    "    draw_accuracy_figure(history, \"emotions\")\n",
    "    \n",
    "    save_emotion_model(model)\n",
    "    \n",
    "    #BOREDOM\n",
    "    print(\"\\nBoredom training:\")\n",
    "    model = load_emotion_model()\n",
    "\n",
    "    X_train, Y_train, X_valid, Y_valid = load_boredom_csv()\n",
    "    Y_train_encoded = one_hot_encoder_bored(Y_train)\n",
    "\n",
    "    Y_valid_encoded = one_hot_encoder_bored(Y_valid)\n",
    "    model_TL = transfer_learning_model(model)\n",
    "\n",
    "\n",
    "    model_TL, history_TL = train_model_boredom(model_TL, X_train, X_valid, Y_train_encoded, Y_valid_encoded)\n",
    "\n",
    "    draw_cost_figure(history_TL, \"boredom\")\n",
    "    draw_accuracy_figure(history_TL, \"boredom\")\n",
    "    \n",
    "    save_boredom_model(model)\n",
    "    \n",
    "main()"
   ]
  },
  {
   "cell_type": "code",
   "execution_count": null,
   "metadata": {},
   "outputs": [],
   "source": []
  }
 ],
 "metadata": {
  "kernelspec": {
   "display_name": "Python 3",
   "language": "python",
   "name": "python3"
  },
  "language_info": {
   "codemirror_mode": {
    "name": "ipython",
    "version": 3
   },
   "file_extension": ".py",
   "mimetype": "text/x-python",
   "name": "python",
   "nbconvert_exporter": "python",
   "pygments_lexer": "ipython3",
   "version": "3.8.8"
  }
 },
 "nbformat": 4,
 "nbformat_minor": 4
}
